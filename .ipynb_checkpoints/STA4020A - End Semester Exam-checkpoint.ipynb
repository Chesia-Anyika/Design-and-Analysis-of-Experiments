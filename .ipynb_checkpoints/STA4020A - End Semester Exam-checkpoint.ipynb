{
 "cells": [
  {
   "cell_type": "markdown",
   "id": "b829df6a",
   "metadata": {},
   "source": [
    "# STA4020A - End Semester Exam\n",
    "**Name: Chesia Anyika**\n",
    "\n",
    "**ID: 665567**\n"
   ]
  },
  {
   "cell_type": "code",
   "execution_count": 1,
   "id": "9e457bee",
   "metadata": {},
   "outputs": [],
   "source": [
    "#libraries necessary\n",
    "from pyDOE2 import fullfact\n",
    "import numpy as np\n",
    "import pandas as pd\n",
    "import matplotlib.pyplot as plt\n",
    "import itertools\n",
    "import math\n",
    "from statsmodels.formula.api import ols\n",
    "import statsmodels.api as sm\n",
    "from mpl_toolkits.mplot3d import Axes3D"
   ]
  },
  {
   "cell_type": "markdown",
   "id": "2d5e606e",
   "metadata": {},
   "source": [
    "# Question 1: [20 Marks]\n",
    "\n",
    "**Imagine you are conducting a factorial experiment to study the effects of diet, exercise, and supplementation on health outcomes. The factors and their levels are as follows:**\n",
    "\n",
    "- Factor A: Diet (3 levels: Low, Medium, High) - Fixed Effect\n",
    "\n",
    "- Factor B: Exercise (2 levels: None, Daily) - Fixed Effect\n",
    "\n",
    "- Factor C: Supplement (2 levels: With, Without) - Fixed Effect\n",
    "\n",
    "1. Calculate the total number of possible treatment combinations for the given levels of each factor.\n",
    "2. Create a full factorial design matrix that lists all possible combinations of the levels ofFactors A, B, and C. Each row should represent a unique treatment combination.\n",
    "3. Assume you have collected data on a response variable (e.g., a health outcome) for eachtreatment combination. Perform a factorial ANOVA to assess the main effects and interaction effects of Factors A, B, and C on the response variable.\n",
    "4. Provide the ANOVA table summarizing the results, including the sum of squares, degrees of freedom, mean squares, F-values, and p-values for each main effect and interaction.\n",
    "5. Interpret the p-values to determine which factors and interactions have statistically significant effects on the response variable. Discuss the implications of these findings.\n",
    "\n",
    "## 1.2 Number of Treatment combinations\n",
    "\n",
    "In a factorial experiment, the number of treatment combinations is the product of the levels of all factors. Here we have:\n",
    "\n",
    "- Factor A: Diet (3 levels: Low, Medium, High) \n",
    "\n",
    "- Factor B: Exercise (2 levels: None, Daily) \n",
    "\n",
    "- Factor C: Supplement (2 levels: With, Without) \n",
    "\n",
    "\n",
    "Thus the number of treatment combinations is:\n",
    "\n",
    "$$\n",
    "3 \\times 2 \\times 2 = 12\n",
    "$$\n",
    "\n",
    "## 1.2 Full-Factorial Design Matrix\n",
    "\n",
    "The full factorial design matrix includes **all possible combinations of the levels of the factors.** Here is the design matrix for Factors A, B, and C:\n",
    "\n",
    "| **Combination** | Factor A (Diet) | Factor B (Exercise) | Factor C (Supplement) |\n",
    "|-----------------|------------------|---------------------|-----------------------|\n",
    "| **1**           | Low              | None                | With                  |\n",
    "| **2**           | Low           | None                | Without                  |\n",
    "| **3**           | Low             | Daily                | With                  |\n",
    "| **4**           | Low              | Daily               | Without                  |\n",
    "| **5**           | Medium           | None               | With                  |\n",
    "| **6**           | Medium             | None               | Without                  |\n",
    "| **7**           | Medium              | Daily                | With               |\n",
    "| **8**           | Medium           | Daily                | Without               |\n",
    "| **9**           | High             | None                | With               |\n",
    "| **10**          | High              | None               | Without               |\n",
    "| **11**          | High           | Daily               | With               |\n",
    "| **12**          | High             | Daily               | Without               |\n",
    "\n",
    "I defined the function `create_full_factorial_design` to create a full factorial design plan, as per the above table."
   ]
  },
  {
   "cell_type": "code",
   "execution_count": 3,
   "id": "189863d2",
   "metadata": {},
   "outputs": [
    {
     "name": "stdout",
     "output_type": "stream",
     "text": [
      "    Diet  Exercise  Supplement\n",
      "0     -1        -1          -1\n",
      "1     -1        -1           1\n",
      "2     -1         1          -1\n",
      "3     -1         1           1\n",
      "4      0        -1          -1\n",
      "5      0        -1           1\n",
      "6      0         1          -1\n",
      "7      0         1           1\n",
      "8      1        -1          -1\n",
      "9      1        -1           1\n",
      "10     1         1          -1\n",
      "11     1         1           1\n"
     ]
    }
   ],
   "source": [
    "def create_full_factorial_design(factors, levels, randomize=False):\n",
    "    # Generate the full factorial design using itertools.product\n",
    "    design = list(itertools.product(*levels))\n",
    "    \n",
    "    # Convert design matrix to a DataFrame\n",
    "    df = pd.DataFrame(design, columns=factors)\n",
    "    \n",
    "    # Randomize the design if needed\n",
    "    if randomize:\n",
    "        df = df.sample(frac=1).reset_index(drop=True)\n",
    "    \n",
    "    return df\n",
    "\n",
    "# Define the factors and their levels\n",
    "factors = ['Diet', 'Exercise', 'Supplement']\n",
    "levels = [\n",
    "    [-1, 0, 1],  # Diet: Low (-1), Medium (0), High (1)\n",
    "    [-1, 1],     # Exercise: None (-1), Daily (1)\n",
    "    [-1, 1]      # Supplement: With (-1), Without (1)\n",
    "]\n",
    "\n",
    "# Create the factorial design\n",
    "df = create_full_factorial_design(factors, levels, randomize=False)\n",
    "\n",
    "# Save the design to an Excel file\n",
    "df.to_excel('full_factorial.xlsx', index=False)\n",
    "\n",
    "# View the resulting experimental design\n",
    "print(df)"
   ]
  }
 ],
 "metadata": {
  "kernelspec": {
   "display_name": "Python 3 (ipykernel)",
   "language": "python",
   "name": "python3"
  },
  "language_info": {
   "codemirror_mode": {
    "name": "ipython",
    "version": 3
   },
   "file_extension": ".py",
   "mimetype": "text/x-python",
   "name": "python",
   "nbconvert_exporter": "python",
   "pygments_lexer": "ipython3",
   "version": "3.11.3"
  }
 },
 "nbformat": 4,
 "nbformat_minor": 5
}
